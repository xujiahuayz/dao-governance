{
 "cells": [
  {
   "cell_type": "markdown",
   "id": "8b741e43",
   "metadata": {},
   "source": [
    "# Regression of Vote Characteristics on CAR"
   ]
  },
  {
   "cell_type": "code",
   "execution_count": 1,
   "id": "b142d515",
   "metadata": {},
   "outputs": [
    {
     "name": "stdout",
     "output_type": "stream",
     "text": [
      "\n",
      "  ___  ____  ____  ____  ____ ®\n",
      " /__    /   ____/   /   ____/      StataNow 19.5\n",
      "___/   /   /___/   /   /___/       MP—Parallel Edition\n",
      "\n",
      " Statistics and Data Science       Copyright 1985-2025 StataCorp LLC\n",
      "                                   StataCorp\n",
      "                                   4905 Lakeway Drive\n",
      "                                   College Station, Texas 77845 USA\n",
      "                                   800-782-8272        https://www.stata.com\n",
      "                                   979-696-4600        service@stata.com\n",
      "\n",
      "Stata license: Unlimited-user 2-core network, expiring  9 Sep 2026\n",
      "Serial number: 501909305069\n",
      "  Licensed to: 罗奕辰\n",
      "               UCL\n",
      "\n",
      "Notes:\n",
      "      1. Unicode is supported; see help unicode_advice.\n",
      "      2. More than 2 billion observations are allowed; see help obs_advice.\n",
      "      3. Maximum number of variables is set to 5,000 but can be increased;\n",
      "          see help set_maxvar.\n"
     ]
    }
   ],
   "source": [
    "import stata_setup\n",
    "\n",
    "stata_setup.config('/Applications/StataNow', 'mp')"
   ]
  },
  {
   "cell_type": "code",
   "execution_count": 2,
   "id": "2eb31b95",
   "metadata": {},
   "outputs": [
    {
     "name": "stdout",
     "output_type": "stream",
     "text": [
      "\n",
      ". \n",
      ". clear all\n",
      "\n",
      ". set more off\n",
      "\n",
      ". version 18\n",
      "\n",
      ". \n",
      ". * Paths\n",
      ". global PROCESSED_DATA \"processed_data\"\n",
      "\n",
      ". global TABLES \"tables\"\n",
      "\n",
      ". \n"
     ]
    }
   ],
   "source": [
    "%%stata\n",
    "\n",
    "clear all\n",
    "set more off\n",
    "version 18\n",
    "\n",
    "* Paths\n",
    "global PROCESSED_DATA \"processed_data\"\n",
    "global TABLES \"tables\""
   ]
  },
  {
   "cell_type": "code",
   "execution_count": null,
   "id": "f4f1f810",
   "metadata": {},
   "outputs": [
    {
     "name": "stdout",
     "output_type": "stream",
     "text": [
      "\n",
      ". foreach stage in created end {\n",
      "  2.     import delimited using \"$PROCESSED_DATA/event_study_panel_`stage'.csv\"\n",
      "> , clear\n",
      "  3. \n",
      ".     * Parse date\n",
      ".     gen day = date(date, \"YMD\")\n",
      "  4.     format day %td\n",
      "  5.     gen year = year(day)\n",
      "  6. \n",
      ".     * Ensure index is numeric (safeguard if it came in as string)\n",
      ".     capture confirm numeric variable index\n",
      "  7.     if _rc {\n",
      "  8.         destring index, replace ignore(\"[]\")\n",
      "  9.     }\n",
      " 10. \n",
      ".     * Encode categorical variables\n",
      ".     encode gecko_id, gen(token)\n",
      " 11.     encode space,    gen(dao)\n",
      " 12. \n",
      ".     * Define windows and specs\n",
      ".     local windows 2 5\n",
      " 13.     local vars    half_vp_ratio vn_hhi vs_hhi cci\n",
      " 14. \n",
      ".     eststo clear\n",
      " 15. \n",
      ".     foreach w of local windows {\n",
      " 16.         preserve\n",
      " 17.         keep if index == `w'\n",
      " 18. \n",
      ".         foreach v of local vars {\n",
      " 19.             qui reghdfe car_`w' `v', absorb(dao year) vce(cluster dao)\n",
      " 20.             eststo car`w'_`v'\n",
      " 21.         }\n",
      " 22. \n",
      ".         restore\n",
      " 23.     }\n",
      " 24. \n",
      ".     * Export a single big LaTeX table with 12 models (3 windows × 4 specs)\n",
      ".     esttab                                                          ///\n",
      ">         car1_half_vp_ratio car1_vn_hhi car1_vs_hhi car1_cci        ///\n",
      ">         car3_half_vp_ratio car3_vn_hhi car3_vs_hhi car3_cci        ///\n",
      ">         car5_half_vp_ratio car5_vn_hhi car5_vs_hhi car5_cci        ///\n",
      ">         using \"$TABLES/reg_car_votes_`stage'.tex\", replace          ///\n",
      ">         se star(* 0.10 ** 0.05 *** 0.01) label                     ///\n",
      ">         mtitles(\"Half VP\" \"VN HHI\" \"VS HHI\" \"CCI\"                  ///\n",
      ">                 \"Half VP\" \"VN HHI\" \"VS HHI\" \"CCI\")                 ///\n",
      ">         mgroups(\"CAR[-2,2]\" \"CAR[-5,5]\",               ///\n",
      ">                 pattern(1 0 0 0  1 0 0 0) span)\n",
      " 25. }\n",
      "(encoding automatically selected: UTF-8)\n",
      "(26 vars, 10,780 obs)\n",
      "(9,800 observations deleted)\n",
      "(9,800 observations deleted)\n"
     ]
    },
    {
     "ename": "SystemError",
     "evalue": "estimation result car1_half_vp_ratio not found\nr(111);\nr(111);\n",
     "output_type": "error",
     "traceback": [
      "\u001b[31m---------------------------------------------------------------------------\u001b[39m",
      "\u001b[31mSystemError\u001b[39m                               Traceback (most recent call last)",
      "\u001b[36mCell\u001b[39m\u001b[36m \u001b[39m\u001b[32mIn[3]\u001b[39m\u001b[32m, line 1\u001b[39m\n\u001b[32m----> \u001b[39m\u001b[32m1\u001b[39m \u001b[43mget_ipython\u001b[49m\u001b[43m(\u001b[49m\u001b[43m)\u001b[49m\u001b[43m.\u001b[49m\u001b[43mrun_cell_magic\u001b[49m\u001b[43m(\u001b[49m\u001b[33;43m'\u001b[39;49m\u001b[33;43mstata\u001b[39;49m\u001b[33;43m'\u001b[39;49m\u001b[43m,\u001b[49m\u001b[43m \u001b[49m\u001b[33;43m'\u001b[39;49m\u001b[33;43m'\u001b[39;49m\u001b[43m,\u001b[49m\u001b[43m \u001b[49m\u001b[33;43m'\u001b[39;49m\u001b[33;43mforeach stage in created end \u001b[39;49m\u001b[33;43m{\u001b[39;49m\u001b[38;5;130;43;01m\\n\u001b[39;49;00m\u001b[33;43m    import delimited using \u001b[39;49m\u001b[33;43m\"\u001b[39;49m\u001b[33;43m$PROCESSED_DATA/event_study_panel_`stage\u001b[39;49m\u001b[38;5;130;43;01m\\'\u001b[39;49;00m\u001b[33;43m.csv\u001b[39;49m\u001b[33;43m\"\u001b[39;49m\u001b[33;43m, clear\u001b[39;49m\u001b[38;5;130;43;01m\\n\u001b[39;49;00m\u001b[38;5;130;43;01m\\n\u001b[39;49;00m\u001b[33;43m    * Parse date\u001b[39;49m\u001b[38;5;130;43;01m\\n\u001b[39;49;00m\u001b[33;43m    gen day = date(date, \u001b[39;49m\u001b[33;43m\"\u001b[39;49m\u001b[33;43mYMD\u001b[39;49m\u001b[33;43m\"\u001b[39;49m\u001b[33;43m)\u001b[39;49m\u001b[38;5;130;43;01m\\n\u001b[39;49;00m\u001b[33;43m    format day \u001b[39;49m\u001b[33;43m%\u001b[39;49m\u001b[33;43mtd\u001b[39;49m\u001b[38;5;130;43;01m\\n\u001b[39;49;00m\u001b[33;43m    gen year = year(day)\u001b[39;49m\u001b[38;5;130;43;01m\\n\u001b[39;49;00m\u001b[38;5;130;43;01m\\n\u001b[39;49;00m\u001b[33;43m    * Ensure index is numeric (safeguard if it came in as string)\u001b[39;49m\u001b[38;5;130;43;01m\\n\u001b[39;49;00m\u001b[33;43m    capture confirm numeric variable index\u001b[39;49m\u001b[38;5;130;43;01m\\n\u001b[39;49;00m\u001b[33;43m    if _rc \u001b[39;49m\u001b[33;43m{\u001b[39;49m\u001b[38;5;130;43;01m\\n\u001b[39;49;00m\u001b[33;43m        destring index, replace ignore(\u001b[39;49m\u001b[33;43m\"\u001b[39;49m\u001b[33;43m[]\u001b[39;49m\u001b[33;43m\"\u001b[39;49m\u001b[33;43m)\u001b[39;49m\u001b[38;5;130;43;01m\\n\u001b[39;49;00m\u001b[33;43m    }\u001b[39;49m\u001b[38;5;130;43;01m\\n\u001b[39;49;00m\u001b[38;5;130;43;01m\\n\u001b[39;49;00m\u001b[33;43m    * Encode categorical variables\u001b[39;49m\u001b[38;5;130;43;01m\\n\u001b[39;49;00m\u001b[33;43m    encode gecko_id, gen(token)\u001b[39;49m\u001b[38;5;130;43;01m\\n\u001b[39;49;00m\u001b[33;43m    encode space,    gen(dao)\u001b[39;49m\u001b[38;5;130;43;01m\\n\u001b[39;49;00m\u001b[38;5;130;43;01m\\n\u001b[39;49;00m\u001b[33;43m    * Define windows and specs\u001b[39;49m\u001b[38;5;130;43;01m\\n\u001b[39;49;00m\u001b[33;43m    local windows 2 5\u001b[39;49m\u001b[38;5;130;43;01m\\n\u001b[39;49;00m\u001b[33;43m    local vars    half_vp_ratio vn_hhi vs_hhi cci\u001b[39;49m\u001b[38;5;130;43;01m\\n\u001b[39;49;00m\u001b[38;5;130;43;01m\\n\u001b[39;49;00m\u001b[33;43m    eststo clear\u001b[39;49m\u001b[38;5;130;43;01m\\n\u001b[39;49;00m\u001b[38;5;130;43;01m\\n\u001b[39;49;00m\u001b[33;43m    foreach w of local windows \u001b[39;49m\u001b[33;43m{\u001b[39;49m\u001b[38;5;130;43;01m\\n\u001b[39;49;00m\u001b[33;43m        preserve\u001b[39;49m\u001b[38;5;130;43;01m\\n\u001b[39;49;00m\u001b[33;43m        keep if index == `w\u001b[39;49m\u001b[38;5;130;43;01m\\'\u001b[39;49;00m\u001b[38;5;130;43;01m\\n\u001b[39;49;00m\u001b[38;5;130;43;01m\\n\u001b[39;49;00m\u001b[33;43m        foreach v of local vars \u001b[39;49m\u001b[33;43m{\u001b[39;49m\u001b[38;5;130;43;01m\\n\u001b[39;49;00m\u001b[33;43m            qui reghdfe car_`w\u001b[39;49m\u001b[38;5;130;43;01m\\'\u001b[39;49;00m\u001b[33;43m `v\u001b[39;49m\u001b[38;5;130;43;01m\\'\u001b[39;49;00m\u001b[33;43m, absorb(dao year) vce(cluster dao)\u001b[39;49m\u001b[38;5;130;43;01m\\n\u001b[39;49;00m\u001b[33;43m            eststo car`w\u001b[39;49m\u001b[38;5;130;43;01m\\'\u001b[39;49;00m\u001b[33;43m_`v\u001b[39;49m\u001b[38;5;130;43;01m\\'\u001b[39;49;00m\u001b[38;5;130;43;01m\\n\u001b[39;49;00m\u001b[33;43m        }\u001b[39;49m\u001b[38;5;130;43;01m\\n\u001b[39;49;00m\u001b[38;5;130;43;01m\\n\u001b[39;49;00m\u001b[33;43m        restore\u001b[39;49m\u001b[38;5;130;43;01m\\n\u001b[39;49;00m\u001b[33;43m    }\u001b[39;49m\u001b[38;5;130;43;01m\\n\u001b[39;49;00m\u001b[38;5;130;43;01m\\n\u001b[39;49;00m\u001b[33;43m    * Export a single big LaTeX table with 12 models (3 windows × 4 specs)\u001b[39;49m\u001b[38;5;130;43;01m\\n\u001b[39;49;00m\u001b[33;43m    esttab                                                          ///\u001b[39;49m\u001b[38;5;130;43;01m\\n\u001b[39;49;00m\u001b[33;43m        car1_half_vp_ratio car1_vn_hhi car1_vs_hhi car1_cci        ///\u001b[39;49m\u001b[38;5;130;43;01m\\n\u001b[39;49;00m\u001b[33;43m        car3_half_vp_ratio car3_vn_hhi car3_vs_hhi car3_cci        ///\u001b[39;49m\u001b[38;5;130;43;01m\\n\u001b[39;49;00m\u001b[33;43m        car5_half_vp_ratio car5_vn_hhi car5_vs_hhi car5_cci        ///\u001b[39;49m\u001b[38;5;130;43;01m\\n\u001b[39;49;00m\u001b[33;43m        using \u001b[39;49m\u001b[33;43m\"\u001b[39;49m\u001b[33;43m$TABLES/reg_car_votes_`stage\u001b[39;49m\u001b[38;5;130;43;01m\\'\u001b[39;49;00m\u001b[33;43m.tex\u001b[39;49m\u001b[33;43m\"\u001b[39;49m\u001b[33;43m, replace          ///\u001b[39;49m\u001b[38;5;130;43;01m\\n\u001b[39;49;00m\u001b[33;43m        se star(* 0.10 ** 0.05 *** 0.01) label                     ///\u001b[39;49m\u001b[38;5;130;43;01m\\n\u001b[39;49;00m\u001b[33;43m        mtitles(\u001b[39;49m\u001b[33;43m\"\u001b[39;49m\u001b[33;43mHalf VP\u001b[39;49m\u001b[33;43m\"\u001b[39;49m\u001b[33;43m \u001b[39;49m\u001b[33;43m\"\u001b[39;49m\u001b[33;43mVN HHI\u001b[39;49m\u001b[33;43m\"\u001b[39;49m\u001b[33;43m \u001b[39;49m\u001b[33;43m\"\u001b[39;49m\u001b[33;43mVS HHI\u001b[39;49m\u001b[33;43m\"\u001b[39;49m\u001b[33;43m \u001b[39;49m\u001b[33;43m\"\u001b[39;49m\u001b[33;43mCCI\u001b[39;49m\u001b[33;43m\"\u001b[39;49m\u001b[33;43m                  ///\u001b[39;49m\u001b[38;5;130;43;01m\\n\u001b[39;49;00m\u001b[33;43m                \u001b[39;49m\u001b[33;43m\"\u001b[39;49m\u001b[33;43mHalf VP\u001b[39;49m\u001b[33;43m\"\u001b[39;49m\u001b[33;43m \u001b[39;49m\u001b[33;43m\"\u001b[39;49m\u001b[33;43mVN HHI\u001b[39;49m\u001b[33;43m\"\u001b[39;49m\u001b[33;43m \u001b[39;49m\u001b[33;43m\"\u001b[39;49m\u001b[33;43mVS HHI\u001b[39;49m\u001b[33;43m\"\u001b[39;49m\u001b[33;43m \u001b[39;49m\u001b[33;43m\"\u001b[39;49m\u001b[33;43mCCI\u001b[39;49m\u001b[33;43m\"\u001b[39;49m\u001b[33;43m)                 ///\u001b[39;49m\u001b[38;5;130;43;01m\\n\u001b[39;49;00m\u001b[33;43m        mgroups(\u001b[39;49m\u001b[33;43m\"\u001b[39;49m\u001b[33;43mCAR[-2,2]\u001b[39;49m\u001b[33;43m\"\u001b[39;49m\u001b[33;43m \u001b[39;49m\u001b[33;43m\"\u001b[39;49m\u001b[33;43mCAR[-5,5]\u001b[39;49m\u001b[33;43m\"\u001b[39;49m\u001b[33;43m,               ///\u001b[39;49m\u001b[38;5;130;43;01m\\n\u001b[39;49;00m\u001b[33;43m                pattern(1 0 0 0  1 0 0 0) span)\u001b[39;49m\u001b[38;5;130;43;01m\\n\u001b[39;49;00m\u001b[33;43m}\u001b[39;49m\u001b[38;5;130;43;01m\\n\u001b[39;49;00m\u001b[33;43m'\u001b[39;49m\u001b[43m)\u001b[49m\n",
      "\u001b[36mFile \u001b[39m\u001b[32m~/Desktop/research/dao-governance/venv/lib/python3.12/site-packages/IPython/core/interactiveshell.py:2565\u001b[39m, in \u001b[36mInteractiveShell.run_cell_magic\u001b[39m\u001b[34m(self, magic_name, line, cell)\u001b[39m\n\u001b[32m   2563\u001b[39m \u001b[38;5;28;01mwith\u001b[39;00m \u001b[38;5;28mself\u001b[39m.builtin_trap:\n\u001b[32m   2564\u001b[39m     args = (magic_arg_s, cell)\n\u001b[32m-> \u001b[39m\u001b[32m2565\u001b[39m     result = \u001b[43mfn\u001b[49m\u001b[43m(\u001b[49m\u001b[43m*\u001b[49m\u001b[43margs\u001b[49m\u001b[43m,\u001b[49m\u001b[43m \u001b[49m\u001b[43m*\u001b[49m\u001b[43m*\u001b[49m\u001b[43mkwargs\u001b[49m\u001b[43m)\u001b[49m\n\u001b[32m   2567\u001b[39m \u001b[38;5;66;03m# The code below prevents the output from being displayed\u001b[39;00m\n\u001b[32m   2568\u001b[39m \u001b[38;5;66;03m# when using magics with decorator @output_can_be_silenced\u001b[39;00m\n\u001b[32m   2569\u001b[39m \u001b[38;5;66;03m# when the last Python token in the expression is a ';'.\u001b[39;00m\n\u001b[32m   2570\u001b[39m \u001b[38;5;28;01mif\u001b[39;00m \u001b[38;5;28mgetattr\u001b[39m(fn, magic.MAGIC_OUTPUT_CAN_BE_SILENCED, \u001b[38;5;28;01mFalse\u001b[39;00m):\n",
      "\u001b[36mFile \u001b[39m\u001b[32m/Applications/StataNow/utilities/pystata/ipython/stpymagic.py:289\u001b[39m, in \u001b[36mPyStataMagic.stata\u001b[39m\u001b[34m(self, line, cell, local_ns)\u001b[39m\n\u001b[32m    287\u001b[39m     _stata.run(cell, quietly=\u001b[38;5;28;01mTrue\u001b[39;00m, echo=echo, inline=_config.stconfig[\u001b[33m'\u001b[39m\u001b[33mgrshow\u001b[39m\u001b[33m'\u001b[39m])\n\u001b[32m    288\u001b[39m \u001b[38;5;28;01melse\u001b[39;00m:\n\u001b[32m--> \u001b[39m\u001b[32m289\u001b[39m     \u001b[43m_stata\u001b[49m\u001b[43m.\u001b[49m\u001b[43mrun\u001b[49m\u001b[43m(\u001b[49m\u001b[43mcell\u001b[49m\u001b[43m,\u001b[49m\u001b[43m \u001b[49m\u001b[43mquietly\u001b[49m\u001b[43m=\u001b[49m\u001b[38;5;28;43;01mFalse\u001b[39;49;00m\u001b[43m,\u001b[49m\u001b[43m \u001b[49m\u001b[43mecho\u001b[49m\u001b[43m=\u001b[49m\u001b[43mecho\u001b[49m\u001b[43m,\u001b[49m\u001b[43m \u001b[49m\u001b[43minline\u001b[49m\u001b[43m=\u001b[49m\u001b[43m_config\u001b[49m\u001b[43m.\u001b[49m\u001b[43mstconfig\u001b[49m\u001b[43m[\u001b[49m\u001b[33;43m'\u001b[39;49m\u001b[33;43mgrshow\u001b[39;49m\u001b[33;43m'\u001b[39;49m\u001b[43m]\u001b[49m\u001b[43m)\u001b[49m\n\u001b[32m    291\u001b[39m \u001b[38;5;28;01mif\u001b[39;00m \u001b[33m'\u001b[39m\u001b[33m-gw\u001b[39m\u001b[33m'\u001b[39m \u001b[38;5;129;01min\u001b[39;00m args \u001b[38;5;129;01mor\u001b[39;00m \u001b[33m'\u001b[39m\u001b[33m-gh\u001b[39m\u001b[33m'\u001b[39m \u001b[38;5;129;01min\u001b[39;00m args:\n\u001b[32m    292\u001b[39m     _config.set_graph_size(gwidth, gheight)\n",
      "\u001b[36mFile \u001b[39m\u001b[32m/Applications/StataNow/utilities/pystata/stata.py:361\u001b[39m, in \u001b[36mrun\u001b[39m\u001b[34m(cmd, quietly, echo, inline)\u001b[39m\n\u001b[32m    359\u001b[39m \u001b[33m        _stata_wrk2(\u001b[39m\u001b[33m\"\u001b[39m\u001b[33mqui include \u001b[39m\u001b[33m\"\u001b[39m\u001b[33m + tmpf, None, False, 1, echo)\u001b[39m\n\u001b[32m    360\u001b[39m \u001b[33m    else:\u001b[39m\n\u001b[32m--> \u001b[39m\u001b[32m361\u001b[39m \u001b[33m        _stata_wrk2(\u001b[39m\u001b[33;43m\"\u001b[39;49m\u001b[33;43minclude \u001b[39;49m\u001b[33;43m\"\u001b[39;49m\u001b[33;43m + tmpf, None, False, 1, echo)\u001b[39;49m\n\u001b[32m    363\u001b[39m \u001b[33mif inline:\u001b[39m\n\u001b[32m    364\u001b[39m \u001b[33m    if config.get_stipython()>=3:\u001b[39m\n",
      "\u001b[36mFile \u001b[39m\u001b[32m/Applications/StataNow/utilities/pystata/stata.py:116\u001b[39m, in \u001b[36m_stata_wrk2\u001b[39m\u001b[34m(cmd, real_cmd, colon, mode, echo)\u001b[39m\n\u001b[32m    114\u001b[39m         err = callback[\u001b[32m0\u001b[39m]\n\u001b[32m    115\u001b[39m         callback.clear()\n\u001b[32m--> \u001b[39m\u001b[32m116\u001b[39m         \u001b[38;5;28;01mraise\u001b[39;00m \u001b[38;5;167;01mSystemError\u001b[39;00m(err)\n\u001b[32m    117\u001b[39m \u001b[38;5;28;01mexcept\u001b[39;00m \u001b[38;5;167;01mKeyboardInterrupt\u001b[39;00m:\n\u001b[32m    118\u001b[39m     outputter.done()\n",
      "\u001b[31mSystemError\u001b[39m: estimation result car1_half_vp_ratio not found\nr(111);\nr(111);\n"
     ]
    }
   ],
   "source": [
    "%%stata\n",
    "foreach stage in created end {\n",
    "    import delimited using \"$PROCESSED_DATA/event_study_panel_`stage'.csv\", clear\n",
    "\n",
    "    * Parse date\n",
    "    gen day = date(date, \"YMD\")\n",
    "    format day %td\n",
    "    gen year = year(day)\n",
    "\n",
    "    * Ensure index is numeric (safeguard if it came in as string)\n",
    "    capture confirm numeric variable index\n",
    "    if _rc {\n",
    "        destring index, replace ignore(\"[]\")\n",
    "    }\n",
    "\n",
    "    * Encode categorical variables\n",
    "    encode gecko_id, gen(token)\n",
    "    encode space,    gen(dao)\n",
    "\n",
    "    * Define windows and specs\n",
    "    local windows 2 5\n",
    "    local vars    half_vp_ratio vn_hhi vs_hhi cci\n",
    "\n",
    "    eststo clear\n",
    "\n",
    "    foreach w of local windows {\n",
    "        preserve\n",
    "        keep if index == `w'\n",
    "\n",
    "        foreach v of local vars {\n",
    "            qui reghdfe car_`w' `v', absorb(dao year) vce(cluster dao)\n",
    "            eststo car`w'_`v'\n",
    "        }\n",
    "\n",
    "        restore\n",
    "    }\n",
    "\n",
    "    * Export a single big LaTeX table with 8 models (2 windows × 4 specs)\n",
    "    esttab                                                          ///\n",
    "        car2_half_vp_ratio car2_vn_hhi car2_vs_hhi car2_cci        ///\n",
    "        car5_half_vp_ratio car5_vn_hhi car5_vs_hhi car5_cci        ///\n",
    "        using \"$TABLES/reg_car_votes_`stage'.tex\", replace          ///\n",
    "        se star(* 0.10 ** 0.05 *** 0.01) label                     ///\n",
    "        mtitles(\"Half VP\" \"VN HHI\" \"VS HHI\" \"CCI\"                  ///\n",
    "                \"Half VP\" \"VN HHI\" \"VS HHI\" \"CCI\")                 ///\n",
    "        mgroups(\"CAR[-2,2]\" \"CAR[-5,5]\",               ///\n",
    "                pattern(1 0 0 0  1 0 0 0) span)\n",
    "}"
   ]
  }
 ],
 "metadata": {
  "kernelspec": {
   "display_name": "venv",
   "language": "python",
   "name": "python3"
  },
  "language_info": {
   "codemirror_mode": {
    "name": "ipython",
    "version": 3
   },
   "file_extension": ".py",
   "mimetype": "text/x-python",
   "name": "python",
   "nbconvert_exporter": "python",
   "pygments_lexer": "ipython3",
   "version": "3.12.10"
  }
 },
 "nbformat": 4,
 "nbformat_minor": 5
}
