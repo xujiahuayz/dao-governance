{
 "cells": [
  {
   "cell_type": "markdown",
   "id": "8b741e43",
   "metadata": {},
   "source": [
    "# Regression of Vote Characteristics on CAR"
   ]
  },
  {
   "cell_type": "code",
   "execution_count": 83,
   "id": "b142d515",
   "metadata": {},
   "outputs": [],
   "source": [
    "import stata_setup\n",
    "\n",
    "stata_setup.config('/Applications/StataNow', 'mp')"
   ]
  },
  {
   "cell_type": "code",
   "execution_count": 84,
   "id": "2eb31b95",
   "metadata": {},
   "outputs": [],
   "source": [
    "%%stata\n",
    "\n",
    "clear all\n",
    "set more off\n",
    "version 18\n",
    "\n",
    "* Paths\n",
    "global PROCESSED_DATA \"processed_data\"\n",
    "global TABLES \"tables\"\n",
    "global EVENT_WINDOW 5"
   ]
  },
  {
   "cell_type": "code",
   "execution_count": 85,
   "id": "f4f1f810",
   "metadata": {},
   "outputs": [],
   "source": [
    "%%stata\n",
    "foreach stage in created end {\n",
    "    import delimited using \"$PROCESSED_DATA/event_study_panel_`stage'.csv\", clear\n",
    "\n",
    "    * Parse date\n",
    "    gen day = date(date, \"YMD\")\n",
    "    format day %td\n",
    "    gen year = year(day)\n",
    "\n",
    "    * Keep CAR at the end of event window\n",
    "    keep if index==$EVENT_WINDOW\n",
    "\n",
    "    * Encode categorical variables\n",
    "    encode gecko_id, gen(token)\n",
    "    encode space, gen(dao)\n",
    "\n",
    "    * Encode vote characteristics\n",
    "    local vars half_vp_ratio vn_hhi vs_hhi cci\n",
    "\n",
    "    eststo clear\n",
    "    foreach v of local vars {\n",
    "        reghdfe car `v', absorb(dao year) vce(cluster dao)\n",
    "        eststo `v'\n",
    "    }\n",
    "\n",
    "    * optional table\n",
    "    esttab half_vp_ratio vn_hhi vs_hhi cci, se star(* 0.10 ** 0.05 *** 0.01)\n",
    "\n",
    "    * save results\n",
    "    esttab using \"$TABLES/reg_car_votes_`stage'.tex\", replace se star(* 0.10 ** 0.05 *** 0.01) ///\n",
    "        label mtitles(\"CAR[-5,5], CAR[-5,5], CAR[-5,5], CAR[-5,5]\")\n",
    "}"
   ]
  }
 ],
 "metadata": {
  "kernelspec": {
   "display_name": "venv",
   "language": "python",
   "name": "python3"
  },
  "language_info": {
   "codemirror_mode": {
    "name": "ipython",
    "version": 3
   },
   "file_extension": ".py",
   "mimetype": "text/x-python",
   "name": "python",
   "nbconvert_exporter": "python",
   "pygments_lexer": "ipython3",
   "version": "3.12.10"
  }
 },
 "nbformat": 4,
 "nbformat_minor": 5
}
