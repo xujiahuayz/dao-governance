{
 "cells": [
  {
   "cell_type": "markdown",
   "id": "8b741e43",
   "metadata": {},
   "source": [
    "# Regression of Vote Characteristics on CAR"
   ]
  },
  {
   "cell_type": "code",
   "execution_count": 25,
   "id": "b142d515",
   "metadata": {},
   "outputs": [],
   "source": [
    "import stata_setup\n",
    "\n",
    "stata_setup.config('/Applications/StataNow', 'mp')"
   ]
  },
  {
   "cell_type": "code",
   "execution_count": 26,
   "id": "2eb31b95",
   "metadata": {},
   "outputs": [],
   "source": [
    "%%stata\n",
    "\n",
    "clear all\n",
    "set more off\n",
    "version 18\n",
    "\n",
    "* Paths\n",
    "global PROCESSED_DATA \"processed_data\"\n",
    "global TABLES \"tables\""
   ]
  },
  {
   "cell_type": "code",
   "execution_count": null,
   "id": "f4f1f810",
   "metadata": {},
   "outputs": [],
   "source": [
    "%%stata\n",
    "foreach stage in created end {\n",
    "    import delimited using \"$PROCESSED_DATA/event_study_panel_`stage'.csv\", clear\n",
    "\n",
    "    * Parse date\n",
    "    gen day = date(date, \"YMD\")\n",
    "    format day %td\n",
    "    gen year = year(day)\n",
    "\n",
    "    * Ensure index is numeric (safeguard if it came in as string)\n",
    "    capture confirm numeric variable index\n",
    "    if _rc {\n",
    "        destring index, replace ignore(\"[]\")\n",
    "    }\n",
    "\n",
    "    * Encode categorical variables\n",
    "    encode gecko_id, gen(token)\n",
    "    encode space,    gen(dao)\n",
    "\n",
    "    * Define windows and specs\n",
    "    local windows 2 5\n",
    "    local vars    half_vp_ratio vn_hhi vs_hhi cci\n",
    "\n",
    "    eststo clear\n",
    "\n",
    "    foreach w of local windows {\n",
    "        preserve\n",
    "        keep if index == `w'\n",
    "\n",
    "        foreach v of local vars {\n",
    "            qui reghdfe car_`w' `v', absorb(dao year) vce(cluster dao)\n",
    "            eststo car`w'_`v'\n",
    "        }\n",
    "\n",
    "        restore\n",
    "    }\n",
    "\n",
    "    * Export a single big LaTeX table with 8 models (2 windows × 4 specs)\n",
    "    esttab                                                          ///\n",
    "        car2_half_vp_ratio car2_vn_hhi car2_vs_hhi car2_cci        ///\n",
    "        car5_half_vp_ratio car5_vn_hhi car5_vs_hhi car5_cci        ///\n",
    "        using \"$TABLES/reg_car_votes_`stage'.tex\", replace          ///\n",
    "        se star(* 0.10 ** 0.05 *** 0.01) label nogaps               ///\n",
    "        mtitles(\"Half VP\" \"VN HHI\" \"VS HHI\" \"CCI\"                  ///\n",
    "                \"Half VP\" \"VN HHI\" \"VS HHI\" \"CCI\")                 ///\n",
    "        mgroups(\"CAR[-2,2]\" \"CAR[-5,5]\",                            ///\n",
    "            span                                                   ///\n",
    "            pattern(1 1 1 1 0 0 0 0)                               ///\n",
    "            prefix(\\multicolumn{@span}{c}{)                        ///\n",
    "            suffix(}))                                             ///\n",
    "        stats(N r2_a, fmt(0 3) labels(\"N\" \"Adj. R²\"))\n",
    "}"
   ]
  }
 ],
 "metadata": {
  "kernelspec": {
   "display_name": "venv",
   "language": "python",
   "name": "python3"
  },
  "language_info": {
   "codemirror_mode": {
    "name": "ipython",
    "version": 3
   },
   "file_extension": ".py",
   "mimetype": "text/x-python",
   "name": "python",
   "nbconvert_exporter": "python",
   "pygments_lexer": "ipython3",
   "version": "3.12.10"
  }
 },
 "nbformat": 4,
 "nbformat_minor": 5
}
