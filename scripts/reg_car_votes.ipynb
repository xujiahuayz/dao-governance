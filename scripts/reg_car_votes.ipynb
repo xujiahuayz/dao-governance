{
 "cells": [
  {
   "cell_type": "markdown",
   "id": "8b741e43",
   "metadata": {},
   "source": [
    "# Regression of Vote Characteristics on CAR"
   ]
  },
  {
   "cell_type": "code",
   "execution_count": 65,
   "id": "b142d515",
   "metadata": {},
   "outputs": [],
   "source": [
    "import stata_setup\n",
    "\n",
    "stata_setup.config('/Applications/StataNow', 'mp')"
   ]
  },
  {
   "cell_type": "code",
   "execution_count": 66,
   "id": "2eb31b95",
   "metadata": {},
   "outputs": [],
   "source": [
    "%%stata\n",
    "\n",
    "clear all\n",
    "set more off\n",
    "version 18\n",
    "\n",
    "* Paths\n",
    "global PROCESSED_DATA \"processed_data\"\n",
    "global TABLES \"tables\"\n",
    "global EVENT_WINDOW 5"
   ]
  },
  {
   "cell_type": "code",
   "execution_count": null,
   "id": "f4f1f810",
   "metadata": {},
   "outputs": [
    {
     "ename": "SystemError",
     "evalue": "\n----------------------------------------------------------------------------\n                      (1)             (2)             (3)             (4)   \n                      car             car             car             car   \n----------------------------------------------------------------------------\nhalf_vp_ra~o       0.0276                                                   \n                  (0.113)                                                   \n\nvn_hhi                             0.0607                                   \n                                 (0.0450)                                   \n\nvs_hhi                                             0.0833*                  \n                                                 (0.0439)                   \n\ncci                                                                0.0407   \n                                                                 (0.0645)   \n\n_cons             -0.0152         -0.0614*        -0.0831**       -0.0317   \n                 (0.0142)        (0.0368)        (0.0375)        (0.0315)   \n----------------------------------------------------------------------------\nN                     927             926             929             928   \n----------------------------------------------------------------------------\nStandard errors in parentheses\n* p<0.10, ** p<0.05, *** p<0.01\noption } not allowed\nr(198);\nr(198);\n",
     "output_type": "error",
     "traceback": [
      "\u001b[31m---------------------------------------------------------------------------\u001b[39m",
      "\u001b[31mSystemError\u001b[39m                               Traceback (most recent call last)",
      "\u001b[36mCell\u001b[39m\u001b[36m \u001b[39m\u001b[32mIn[67]\u001b[39m\u001b[32m, line 1\u001b[39m\n\u001b[32m----> \u001b[39m\u001b[32m1\u001b[39m \u001b[43mget_ipython\u001b[49m\u001b[43m(\u001b[49m\u001b[43m)\u001b[49m\u001b[43m.\u001b[49m\u001b[43mrun_cell_magic\u001b[49m\u001b[43m(\u001b[49m\u001b[33;43m'\u001b[39;49m\u001b[33;43mstata\u001b[39;49m\u001b[33;43m'\u001b[39;49m\u001b[43m,\u001b[49m\u001b[43m \u001b[49m\u001b[33;43m'\u001b[39;49m\u001b[33;43m'\u001b[39;49m\u001b[43m,\u001b[49m\u001b[43m \u001b[49m\u001b[33;43m'\u001b[39;49m\u001b[33;43mforeach stage in created end \u001b[39;49m\u001b[33;43m{\u001b[39;49m\u001b[38;5;130;43;01m\\n\u001b[39;49;00m\u001b[33;43m    import delimited using \u001b[39;49m\u001b[33;43m\"\u001b[39;49m\u001b[33;43m$PROCESSED_DATA/event_study_panel_`stage\u001b[39;49m\u001b[38;5;130;43;01m\\'\u001b[39;49;00m\u001b[33;43m.csv\u001b[39;49m\u001b[33;43m\"\u001b[39;49m\u001b[33;43m, clear\u001b[39;49m\u001b[38;5;130;43;01m\\n\u001b[39;49;00m\u001b[38;5;130;43;01m\\n\u001b[39;49;00m\u001b[33;43m    * Parse date\u001b[39;49m\u001b[38;5;130;43;01m\\n\u001b[39;49;00m\u001b[33;43m    gen day = date(date, \u001b[39;49m\u001b[33;43m\"\u001b[39;49m\u001b[33;43mYMD\u001b[39;49m\u001b[33;43m\"\u001b[39;49m\u001b[33;43m)\u001b[39;49m\u001b[38;5;130;43;01m\\n\u001b[39;49;00m\u001b[33;43m    format day \u001b[39;49m\u001b[33;43m%\u001b[39;49m\u001b[33;43mtd\u001b[39;49m\u001b[38;5;130;43;01m\\n\u001b[39;49;00m\u001b[33;43m    gen year = year(day)\u001b[39;49m\u001b[38;5;130;43;01m\\n\u001b[39;49;00m\u001b[38;5;130;43;01m\\n\u001b[39;49;00m\u001b[33;43m    * Keep CAR at the end of event window\u001b[39;49m\u001b[38;5;130;43;01m\\n\u001b[39;49;00m\u001b[33;43m    keep if index==$EVENT_WINDOW\u001b[39;49m\u001b[38;5;130;43;01m\\n\u001b[39;49;00m\u001b[38;5;130;43;01m\\n\u001b[39;49;00m\u001b[33;43m    * Encode categorical variables\u001b[39;49m\u001b[38;5;130;43;01m\\n\u001b[39;49;00m\u001b[33;43m    encode gecko_id, gen(token)\u001b[39;49m\u001b[38;5;130;43;01m\\n\u001b[39;49;00m\u001b[33;43m    encode space, gen(dao)\u001b[39;49m\u001b[38;5;130;43;01m\\n\u001b[39;49;00m\u001b[38;5;130;43;01m\\n\u001b[39;49;00m\u001b[33;43m    * Encode vote characteristics\u001b[39;49m\u001b[38;5;130;43;01m\\n\u001b[39;49;00m\u001b[33;43m    local vars half_vp_ratio vn_hhi vs_hhi cci\u001b[39;49m\u001b[38;5;130;43;01m\\n\u001b[39;49;00m\u001b[38;5;130;43;01m\\n\u001b[39;49;00m\u001b[33;43m    eststo clear\u001b[39;49m\u001b[38;5;130;43;01m\\n\u001b[39;49;00m\u001b[33;43m    foreach v of local vars \u001b[39;49m\u001b[33;43m{\u001b[39;49m\u001b[38;5;130;43;01m\\n\u001b[39;49;00m\u001b[33;43m        reghdfe car `v\u001b[39;49m\u001b[38;5;130;43;01m\\'\u001b[39;49;00m\u001b[33;43m, absorb(dao year) vce(cluster dao)\u001b[39;49m\u001b[38;5;130;43;01m\\n\u001b[39;49;00m\u001b[33;43m        eststo `v\u001b[39;49m\u001b[38;5;130;43;01m\\'\u001b[39;49;00m\u001b[38;5;130;43;01m\\n\u001b[39;49;00m\u001b[33;43m    }\u001b[39;49m\u001b[38;5;130;43;01m\\n\u001b[39;49;00m\u001b[38;5;130;43;01m\\n\u001b[39;49;00m\u001b[33;43m    * optional table\u001b[39;49m\u001b[38;5;130;43;01m\\n\u001b[39;49;00m\u001b[33;43m    esttab half_vp_ratio vn_hhi vs_hhi cci, se star(* 0.10 ** 0.05 *** 0.01)\u001b[39;49m\u001b[38;5;130;43;01m\\n\u001b[39;49;00m\u001b[38;5;130;43;01m\\n\u001b[39;49;00m\u001b[33;43m    * save results\u001b[39;49m\u001b[38;5;130;43;01m\\n\u001b[39;49;00m\u001b[33;43m    esttab using \u001b[39;49m\u001b[33;43m\"\u001b[39;49m\u001b[33;43m$TABLES/reg_car_votes_`stage\u001b[39;49m\u001b[38;5;130;43;01m\\'\u001b[39;49;00m\u001b[33;43m.tex\u001b[39;49m\u001b[33;43m\"\u001b[39;49m\u001b[33;43m, replace se star(* 0.10 ** 0.05 *** 0.01) ///\u001b[39;49m\u001b[38;5;130;43;01m\\n\u001b[39;49;00m\u001b[33;43m        label mtitles(\u001b[39;49m\u001b[33;43m\"\u001b[39;49m\u001b[33;43mHalf VP Ratio\u001b[39;49m\u001b[33;43m\"\u001b[39;49m\u001b[33;43m \u001b[39;49m\u001b[33;43m\"\u001b[39;49m\u001b[33;43m$HHI^\u001b[39;49m\u001b[33;43m{\u001b[39;49m\u001b[38;5;130;43;01m\\\\\u001b[39;49;00m\u001b[33;43mtext\u001b[39;49m\u001b[38;5;132;43;01m{vn}\u001b[39;49;00m\u001b[33;43m}$\u001b[39;49m\u001b[33;43m\"\u001b[39;49m\u001b[33;43m \u001b[39;49m\u001b[33;43m\"\u001b[39;49m\u001b[33;43m$HHI^\u001b[39;49m\u001b[33;43m{\u001b[39;49m\u001b[38;5;130;43;01m\\\\\u001b[39;49;00m\u001b[33;43mtext\u001b[39;49m\u001b[38;5;132;43;01m{vs}\u001b[39;49;00m\u001b[33;43m}$\u001b[39;49m\u001b[33;43m\"\u001b[39;49m\u001b[33;43m \u001b[39;49m\u001b[33;43m\"\u001b[39;49m\u001b[33;43m$CCI$\u001b[39;49m\u001b[33;43m\"\u001b[39;49m\u001b[33;43m) ///\u001b[39;49m\u001b[38;5;130;43;01m\\n\u001b[39;49;00m\u001b[33;43m}\u001b[39;49m\u001b[38;5;130;43;01m\\n\u001b[39;49;00m\u001b[33;43m'\u001b[39;49m\u001b[43m)\u001b[49m\n",
      "\u001b[36mFile \u001b[39m\u001b[32m~/Desktop/research/dao-governance/venv/lib/python3.12/site-packages/IPython/core/interactiveshell.py:2565\u001b[39m, in \u001b[36mInteractiveShell.run_cell_magic\u001b[39m\u001b[34m(self, magic_name, line, cell)\u001b[39m\n\u001b[32m   2563\u001b[39m \u001b[38;5;28;01mwith\u001b[39;00m \u001b[38;5;28mself\u001b[39m.builtin_trap:\n\u001b[32m   2564\u001b[39m     args = (magic_arg_s, cell)\n\u001b[32m-> \u001b[39m\u001b[32m2565\u001b[39m     result = \u001b[43mfn\u001b[49m\u001b[43m(\u001b[49m\u001b[43m*\u001b[49m\u001b[43margs\u001b[49m\u001b[43m,\u001b[49m\u001b[43m \u001b[49m\u001b[43m*\u001b[49m\u001b[43m*\u001b[49m\u001b[43mkwargs\u001b[49m\u001b[43m)\u001b[49m\n\u001b[32m   2567\u001b[39m \u001b[38;5;66;03m# The code below prevents the output from being displayed\u001b[39;00m\n\u001b[32m   2568\u001b[39m \u001b[38;5;66;03m# when using magics with decorator @output_can_be_silenced\u001b[39;00m\n\u001b[32m   2569\u001b[39m \u001b[38;5;66;03m# when the last Python token in the expression is a ';'.\u001b[39;00m\n\u001b[32m   2570\u001b[39m \u001b[38;5;28;01mif\u001b[39;00m \u001b[38;5;28mgetattr\u001b[39m(fn, magic.MAGIC_OUTPUT_CAN_BE_SILENCED, \u001b[38;5;28;01mFalse\u001b[39;00m):\n",
      "\u001b[36mFile \u001b[39m\u001b[32m/Applications/StataNow/utilities/pystata/ipython/stpymagic.py:289\u001b[39m, in \u001b[36mPyStataMagic.stata\u001b[39m\u001b[34m(self, line, cell, local_ns)\u001b[39m\n\u001b[32m    287\u001b[39m     _stata.run(cell, quietly=\u001b[38;5;28;01mTrue\u001b[39;00m, echo=echo, inline=_config.stconfig[\u001b[33m'\u001b[39m\u001b[33mgrshow\u001b[39m\u001b[33m'\u001b[39m])\n\u001b[32m    288\u001b[39m \u001b[38;5;28;01melse\u001b[39;00m:\n\u001b[32m--> \u001b[39m\u001b[32m289\u001b[39m     \u001b[43m_stata\u001b[49m\u001b[43m.\u001b[49m\u001b[43mrun\u001b[49m\u001b[43m(\u001b[49m\u001b[43mcell\u001b[49m\u001b[43m,\u001b[49m\u001b[43m \u001b[49m\u001b[43mquietly\u001b[49m\u001b[43m=\u001b[49m\u001b[38;5;28;43;01mFalse\u001b[39;49;00m\u001b[43m,\u001b[49m\u001b[43m \u001b[49m\u001b[43mecho\u001b[49m\u001b[43m=\u001b[49m\u001b[43mecho\u001b[49m\u001b[43m,\u001b[49m\u001b[43m \u001b[49m\u001b[43minline\u001b[49m\u001b[43m=\u001b[49m\u001b[43m_config\u001b[49m\u001b[43m.\u001b[49m\u001b[43mstconfig\u001b[49m\u001b[43m[\u001b[49m\u001b[33;43m'\u001b[39;49m\u001b[33;43mgrshow\u001b[39;49m\u001b[33;43m'\u001b[39;49m\u001b[43m]\u001b[49m\u001b[43m)\u001b[49m\n\u001b[32m    291\u001b[39m \u001b[38;5;28;01mif\u001b[39;00m \u001b[33m'\u001b[39m\u001b[33m-gw\u001b[39m\u001b[33m'\u001b[39m \u001b[38;5;129;01min\u001b[39;00m args \u001b[38;5;129;01mor\u001b[39;00m \u001b[33m'\u001b[39m\u001b[33m-gh\u001b[39m\u001b[33m'\u001b[39m \u001b[38;5;129;01min\u001b[39;00m args:\n\u001b[32m    292\u001b[39m     _config.set_graph_size(gwidth, gheight)\n",
      "\u001b[36mFile \u001b[39m\u001b[32m/Applications/StataNow/utilities/pystata/stata.py:361\u001b[39m, in \u001b[36mrun\u001b[39m\u001b[34m(cmd, quietly, echo, inline)\u001b[39m\n\u001b[32m    359\u001b[39m \u001b[33m        _stata_wrk2(\u001b[39m\u001b[33m\"\u001b[39m\u001b[33mqui include \u001b[39m\u001b[33m\"\u001b[39m\u001b[33m + tmpf, None, False, 1, echo)\u001b[39m\n\u001b[32m    360\u001b[39m \u001b[33m    else:\u001b[39m\n\u001b[32m--> \u001b[39m\u001b[32m361\u001b[39m \u001b[33m        _stata_wrk2(\u001b[39m\u001b[33;43m\"\u001b[39;49m\u001b[33;43minclude \u001b[39;49m\u001b[33;43m\"\u001b[39;49m\u001b[33;43m + tmpf, None, False, 1, echo)\u001b[39;49m\n\u001b[32m    363\u001b[39m \u001b[33mif inline:\u001b[39m\n\u001b[32m    364\u001b[39m \u001b[33m    if config.get_stipython()>=3:\u001b[39m\n",
      "\u001b[36mFile \u001b[39m\u001b[32m/Applications/StataNow/utilities/pystata/stata.py:116\u001b[39m, in \u001b[36m_stata_wrk2\u001b[39m\u001b[34m(cmd, real_cmd, colon, mode, echo)\u001b[39m\n\u001b[32m    114\u001b[39m         err = callback[\u001b[32m0\u001b[39m]\n\u001b[32m    115\u001b[39m         callback.clear()\n\u001b[32m--> \u001b[39m\u001b[32m116\u001b[39m         \u001b[38;5;28;01mraise\u001b[39;00m \u001b[38;5;167;01mSystemError\u001b[39;00m(err)\n\u001b[32m    117\u001b[39m \u001b[38;5;28;01mexcept\u001b[39;00m \u001b[38;5;167;01mKeyboardInterrupt\u001b[39;00m:\n\u001b[32m    118\u001b[39m     outputter.done()\n",
      "\u001b[31mSystemError\u001b[39m: \n----------------------------------------------------------------------------\n                      (1)             (2)             (3)             (4)   \n                      car             car             car             car   \n----------------------------------------------------------------------------\nhalf_vp_ra~o       0.0276                                                   \n                  (0.113)                                                   \n\nvn_hhi                             0.0607                                   \n                                 (0.0450)                                   \n\nvs_hhi                                             0.0833*                  \n                                                 (0.0439)                   \n\ncci                                                                0.0407   \n                                                                 (0.0645)   \n\n_cons             -0.0152         -0.0614*        -0.0831**       -0.0317   \n                 (0.0142)        (0.0368)        (0.0375)        (0.0315)   \n----------------------------------------------------------------------------\nN                     927             926             929             928   \n----------------------------------------------------------------------------\nStandard errors in parentheses\n* p<0.10, ** p<0.05, *** p<0.01\noption } not allowed\nr(198);\nr(198);\n"
     ]
    }
   ],
   "source": [
    "%%stata\n",
    "foreach stage in created end {\n",
    "    import delimited using \"$PROCESSED_DATA/event_study_panel_`stage'.csv\", clear\n",
    "\n",
    "    * Parse date\n",
    "    gen day = date(date, \"YMD\")\n",
    "    format day %td\n",
    "    gen year = year(day)\n",
    "\n",
    "    * Keep CAR at the end of event window\n",
    "    keep if index==$EVENT_WINDOW\n",
    "\n",
    "    * Encode categorical variables\n",
    "    encode gecko_id, gen(token)\n",
    "    encode space, gen(dao)\n",
    "\n",
    "    * Encode vote characteristics\n",
    "    local vars half_vp_ratio vn_hhi vs_hhi cci\n",
    "\n",
    "    eststo clear\n",
    "    foreach v of local vars {\n",
    "        reghdfe car `v', absorb(dao year) vce(cluster dao)\n",
    "        eststo `v'\n",
    "    }\n",
    "\n",
    "    * optional table\n",
    "    esttab half_vp_ratio vn_hhi vs_hhi cci, se star(* 0.10 ** 0.05 *** 0.01)\n",
    "\n",
    "    * save results\n",
    "    esttab using \"$TABLES/reg_car_votes_`stage'.tex\", replace se star(* 0.10 ** 0.05 *** 0.01) ///\n",
    "        label mtitles(\"Half VP Ratio\" \"$HHI^{\\text{vn}}$\" \"$HHI^{\\text{vs}}$\" \"$CCI$\")\n",
    "}"
   ]
  }
 ],
 "metadata": {
  "kernelspec": {
   "display_name": "venv",
   "language": "python",
   "name": "python3"
  },
  "language_info": {
   "codemirror_mode": {
    "name": "ipython",
    "version": 3
   },
   "file_extension": ".py",
   "mimetype": "text/x-python",
   "name": "python",
   "nbconvert_exporter": "python",
   "pygments_lexer": "ipython3",
   "version": "3.12.10"
  }
 },
 "nbformat": 4,
 "nbformat_minor": 5
}
