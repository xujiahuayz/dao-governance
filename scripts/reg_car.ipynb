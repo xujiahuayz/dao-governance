{
 "cells": [
  {
   "cell_type": "markdown",
   "id": "3ad94b7d",
   "metadata": {},
   "source": [
    "# CAR Regression"
   ]
  },
  {
   "cell_type": "code",
   "execution_count": 25,
   "id": "88e30539",
   "metadata": {},
   "outputs": [],
   "source": [
    "import stata_setup\n",
    "\n",
    "stata_setup.config('/Applications/StataNow', 'mp')"
   ]
  },
  {
   "cell_type": "markdown",
   "id": "8b33ef1c",
   "metadata": {},
   "source": [
    "## Dependencies"
   ]
  },
  {
   "cell_type": "code",
   "execution_count": 26,
   "id": "25ca0253",
   "metadata": {},
   "outputs": [
    {
     "name": "stdout",
     "output_type": "stream",
     "text": [
      "\n",
      ". *******************************************************\n",
      ". * Explain CAR[-5,5] with DAO FE + Time FE\n",
      ". * SE clustered at DAO level\n",
      ". * Panels: stage = start and stage = end\n",
      ". *******************************************************\n",
      ". \n",
      ". clear all\n",
      "\n",
      ". set more off\n",
      "\n",
      ". version 18\n",
      "\n",
      ". \n",
      ". * Paths\n",
      ". global PROCESSED_DATA \"processed_data\"\n",
      "\n",
      ". global TABLES \"tables\"\n",
      "\n",
      ". global EVENT_WINDOW 5\n",
      "\n",
      ". \n",
      ". # ssc install estout, replace\n",
      "Unknown #command\n",
      ". # ssc install reghdfe, replace\n",
      "Unknown #command\n",
      ". \n"
     ]
    }
   ],
   "source": [
    "%%stata\n",
    "*******************************************************\n",
    "* Explain CAR[-5,5] with DAO FE + Time FE\n",
    "* SE clustered at DAO level\n",
    "* Panels: stage = start and stage = end\n",
    "*******************************************************\n",
    "\n",
    "clear all\n",
    "set more off\n",
    "version 18\n",
    "\n",
    "* Paths\n",
    "global PROCESSED_DATA \"processed_data\"\n",
    "global TABLES \"tables\"\n",
    "global EVENT_WINDOW 5\n",
    "\n",
    "# ssc install estout, replace\n",
    "# ssc install reghdfe, replace"
   ]
  },
  {
   "cell_type": "markdown",
   "id": "9164b1cf",
   "metadata": {},
   "source": [
    "## Proposal Created"
   ]
  },
  {
   "cell_type": "code",
   "execution_count": 27,
   "id": "1062d2ea",
   "metadata": {},
   "outputs": [
    {
     "name": "stdout",
     "output_type": "stream",
     "text": [
      "\n",
      ". import delimited using \"PROCESSED_DATA/event_study_panel_created.csv\", ///\n",
      ">     varnames(1) clear\n",
      "(encoding automatically selected: ISO-8859-1)\n"
     ]
    },
    {
     "ename": "SystemError",
     "evalue": "(29 vars, 10,703 obs)\n\n. \n. * Parse date\n. gen day = date(date, \"YMD\")\n\n. format day %td\n\n. gen year = year(day)\n\n. \n. * Keep CAR at the end of event window\n. keep if index==$EVENT_WINDOW\n(9,730 observations deleted)\n\n. \n. * Encode categorical variables\n. encode gecko_id, gen(token)\n\n. encode space, gen(dao)\n\n. \n. eststo clear\n\n. \n. * Run OLS on within-transformed variables, then get VIF\n. reg car reject\nno observations\nr(2000);\nr(2000);\n",
     "output_type": "error",
     "traceback": [
      "\u001b[31m---------------------------------------------------------------------------\u001b[39m",
      "\u001b[31mSystemError\u001b[39m                               Traceback (most recent call last)",
      "\u001b[36mCell\u001b[39m\u001b[36m \u001b[39m\u001b[32mIn[27]\u001b[39m\u001b[32m, line 1\u001b[39m\n\u001b[32m----> \u001b[39m\u001b[32m1\u001b[39m \u001b[43mget_ipython\u001b[49m\u001b[43m(\u001b[49m\u001b[43m)\u001b[49m\u001b[43m.\u001b[49m\u001b[43mrun_cell_magic\u001b[49m\u001b[43m(\u001b[49m\u001b[33;43m'\u001b[39;49m\u001b[33;43mstata\u001b[39;49m\u001b[33;43m'\u001b[39;49m\u001b[43m,\u001b[49m\u001b[43m \u001b[49m\u001b[33;43m'\u001b[39;49m\u001b[33;43m'\u001b[39;49m\u001b[43m,\u001b[49m\u001b[43m \u001b[49m\u001b[33;43m'\u001b[39;49m\u001b[33;43mimport delimited using \u001b[39;49m\u001b[33;43m\"\u001b[39;49m\u001b[33;43mPROCESSED_DATA/event_study_panel_created.csv\u001b[39;49m\u001b[33;43m\"\u001b[39;49m\u001b[33;43m, ///\u001b[39;49m\u001b[38;5;130;43;01m\\n\u001b[39;49;00m\u001b[33;43m    varnames(1) clear\u001b[39;49m\u001b[38;5;130;43;01m\\n\u001b[39;49;00m\u001b[38;5;130;43;01m\\n\u001b[39;49;00m\u001b[33;43m* Parse date\u001b[39;49m\u001b[38;5;130;43;01m\\n\u001b[39;49;00m\u001b[33;43mgen day = date(date, \u001b[39;49m\u001b[33;43m\"\u001b[39;49m\u001b[33;43mYMD\u001b[39;49m\u001b[33;43m\"\u001b[39;49m\u001b[33;43m)\u001b[39;49m\u001b[38;5;130;43;01m\\n\u001b[39;49;00m\u001b[33;43mformat day \u001b[39;49m\u001b[33;43m%\u001b[39;49m\u001b[33;43mtd\u001b[39;49m\u001b[38;5;130;43;01m\\n\u001b[39;49;00m\u001b[33;43mgen year = year(day)\u001b[39;49m\u001b[38;5;130;43;01m\\n\u001b[39;49;00m\u001b[38;5;130;43;01m\\n\u001b[39;49;00m\u001b[33;43m* Keep CAR at the end of event window\u001b[39;49m\u001b[38;5;130;43;01m\\n\u001b[39;49;00m\u001b[33;43mkeep if index==$EVENT_WINDOW\u001b[39;49m\u001b[38;5;130;43;01m\\n\u001b[39;49;00m\u001b[38;5;130;43;01m\\n\u001b[39;49;00m\u001b[33;43m* Encode categorical variables\u001b[39;49m\u001b[38;5;130;43;01m\\n\u001b[39;49;00m\u001b[33;43mencode gecko_id, gen(token)\u001b[39;49m\u001b[38;5;130;43;01m\\n\u001b[39;49;00m\u001b[33;43mencode space, gen(dao)\u001b[39;49m\u001b[38;5;130;43;01m\\n\u001b[39;49;00m\u001b[38;5;130;43;01m\\n\u001b[39;49;00m\u001b[33;43meststo clear\u001b[39;49m\u001b[38;5;130;43;01m\\n\u001b[39;49;00m\u001b[38;5;130;43;01m\\n\u001b[39;49;00m\u001b[33;43m* Run OLS on within-transformed variables, then get VIF\u001b[39;49m\u001b[38;5;130;43;01m\\n\u001b[39;49;00m\u001b[33;43mreg car reject\u001b[39;49m\u001b[38;5;130;43;01m\\n\u001b[39;49;00m\u001b[33;43mestat vif\u001b[39;49m\u001b[38;5;130;43;01m\\n\u001b[39;49;00m\u001b[33;43m'\u001b[39;49m\u001b[43m)\u001b[49m\n",
      "\u001b[36mFile \u001b[39m\u001b[32m~/Desktop/research/dao-governance/venv/lib/python3.12/site-packages/IPython/core/interactiveshell.py:2565\u001b[39m, in \u001b[36mInteractiveShell.run_cell_magic\u001b[39m\u001b[34m(self, magic_name, line, cell)\u001b[39m\n\u001b[32m   2563\u001b[39m \u001b[38;5;28;01mwith\u001b[39;00m \u001b[38;5;28mself\u001b[39m.builtin_trap:\n\u001b[32m   2564\u001b[39m     args = (magic_arg_s, cell)\n\u001b[32m-> \u001b[39m\u001b[32m2565\u001b[39m     result = \u001b[43mfn\u001b[49m\u001b[43m(\u001b[49m\u001b[43m*\u001b[49m\u001b[43margs\u001b[49m\u001b[43m,\u001b[49m\u001b[43m \u001b[49m\u001b[43m*\u001b[49m\u001b[43m*\u001b[49m\u001b[43mkwargs\u001b[49m\u001b[43m)\u001b[49m\n\u001b[32m   2567\u001b[39m \u001b[38;5;66;03m# The code below prevents the output from being displayed\u001b[39;00m\n\u001b[32m   2568\u001b[39m \u001b[38;5;66;03m# when using magics with decorator @output_can_be_silenced\u001b[39;00m\n\u001b[32m   2569\u001b[39m \u001b[38;5;66;03m# when the last Python token in the expression is a ';'.\u001b[39;00m\n\u001b[32m   2570\u001b[39m \u001b[38;5;28;01mif\u001b[39;00m \u001b[38;5;28mgetattr\u001b[39m(fn, magic.MAGIC_OUTPUT_CAN_BE_SILENCED, \u001b[38;5;28;01mFalse\u001b[39;00m):\n",
      "\u001b[36mFile \u001b[39m\u001b[32m/Applications/StataNow/utilities/pystata/ipython/stpymagic.py:289\u001b[39m, in \u001b[36mPyStataMagic.stata\u001b[39m\u001b[34m(self, line, cell, local_ns)\u001b[39m\n\u001b[32m    287\u001b[39m     _stata.run(cell, quietly=\u001b[38;5;28;01mTrue\u001b[39;00m, echo=echo, inline=_config.stconfig[\u001b[33m'\u001b[39m\u001b[33mgrshow\u001b[39m\u001b[33m'\u001b[39m])\n\u001b[32m    288\u001b[39m \u001b[38;5;28;01melse\u001b[39;00m:\n\u001b[32m--> \u001b[39m\u001b[32m289\u001b[39m     \u001b[43m_stata\u001b[49m\u001b[43m.\u001b[49m\u001b[43mrun\u001b[49m\u001b[43m(\u001b[49m\u001b[43mcell\u001b[49m\u001b[43m,\u001b[49m\u001b[43m \u001b[49m\u001b[43mquietly\u001b[49m\u001b[43m=\u001b[49m\u001b[38;5;28;43;01mFalse\u001b[39;49;00m\u001b[43m,\u001b[49m\u001b[43m \u001b[49m\u001b[43mecho\u001b[49m\u001b[43m=\u001b[49m\u001b[43mecho\u001b[49m\u001b[43m,\u001b[49m\u001b[43m \u001b[49m\u001b[43minline\u001b[49m\u001b[43m=\u001b[49m\u001b[43m_config\u001b[49m\u001b[43m.\u001b[49m\u001b[43mstconfig\u001b[49m\u001b[43m[\u001b[49m\u001b[33;43m'\u001b[39;49m\u001b[33;43mgrshow\u001b[39;49m\u001b[33;43m'\u001b[39;49m\u001b[43m]\u001b[49m\u001b[43m)\u001b[49m\n\u001b[32m    291\u001b[39m \u001b[38;5;28;01mif\u001b[39;00m \u001b[33m'\u001b[39m\u001b[33m-gw\u001b[39m\u001b[33m'\u001b[39m \u001b[38;5;129;01min\u001b[39;00m args \u001b[38;5;129;01mor\u001b[39;00m \u001b[33m'\u001b[39m\u001b[33m-gh\u001b[39m\u001b[33m'\u001b[39m \u001b[38;5;129;01min\u001b[39;00m args:\n\u001b[32m    292\u001b[39m     _config.set_graph_size(gwidth, gheight)\n",
      "\u001b[36mFile \u001b[39m\u001b[32m/Applications/StataNow/utilities/pystata/stata.py:361\u001b[39m, in \u001b[36mrun\u001b[39m\u001b[34m(cmd, quietly, echo, inline)\u001b[39m\n\u001b[32m    359\u001b[39m \u001b[33m        _stata_wrk2(\u001b[39m\u001b[33m\"\u001b[39m\u001b[33mqui include \u001b[39m\u001b[33m\"\u001b[39m\u001b[33m + tmpf, None, False, 1, echo)\u001b[39m\n\u001b[32m    360\u001b[39m \u001b[33m    else:\u001b[39m\n\u001b[32m--> \u001b[39m\u001b[32m361\u001b[39m \u001b[33m        _stata_wrk2(\u001b[39m\u001b[33;43m\"\u001b[39;49m\u001b[33;43minclude \u001b[39;49m\u001b[33;43m\"\u001b[39;49m\u001b[33;43m + tmpf, None, False, 1, echo)\u001b[39;49m\n\u001b[32m    363\u001b[39m \u001b[33mif inline:\u001b[39m\n\u001b[32m    364\u001b[39m \u001b[33m    if config.get_stipython()>=3:\u001b[39m\n",
      "\u001b[36mFile \u001b[39m\u001b[32m/Applications/StataNow/utilities/pystata/stata.py:116\u001b[39m, in \u001b[36m_stata_wrk2\u001b[39m\u001b[34m(cmd, real_cmd, colon, mode, echo)\u001b[39m\n\u001b[32m    114\u001b[39m         err = callback[\u001b[32m0\u001b[39m]\n\u001b[32m    115\u001b[39m         callback.clear()\n\u001b[32m--> \u001b[39m\u001b[32m116\u001b[39m         \u001b[38;5;28;01mraise\u001b[39;00m \u001b[38;5;167;01mSystemError\u001b[39;00m(err)\n\u001b[32m    117\u001b[39m \u001b[38;5;28;01mexcept\u001b[39;00m \u001b[38;5;167;01mKeyboardInterrupt\u001b[39;00m:\n\u001b[32m    118\u001b[39m     outputter.done()\n",
      "\u001b[31mSystemError\u001b[39m: (29 vars, 10,703 obs)\n\n. \n. * Parse date\n. gen day = date(date, \"YMD\")\n\n. format day %td\n\n. gen year = year(day)\n\n. \n. * Keep CAR at the end of event window\n. keep if index==$EVENT_WINDOW\n(9,730 observations deleted)\n\n. \n. * Encode categorical variables\n. encode gecko_id, gen(token)\n\n. encode space, gen(dao)\n\n. \n. eststo clear\n\n. \n. * Run OLS on within-transformed variables, then get VIF\n. reg car reject\nno observations\nr(2000);\nr(2000);\n"
     ]
    }
   ],
   "source": [
    "%%stata\n",
    "import delimited using \"PROCESSED_DATA/event_study_panel_created.csv\", ///\n",
    "    varnames(1) clear\n",
    "\n",
    "* Parse date\n",
    "gen day = date(date, \"YMD\")\n",
    "format day %td\n",
    "gen year = year(day)\n",
    "\n",
    "* Keep CAR at the end of event window\n",
    "keep if index==$EVENT_WINDOW\n",
    "\n",
    "* Encode categorical variables\n",
    "encode gecko_id, gen(token)\n",
    "encode space, gen(dao)\n",
    "\n",
    "eststo clear\n",
    "\n",
    "* Run OLS on within-transformed variables, then get VIF\n",
    "reg car reject\n",
    "estat vif\n"
   ]
  },
  {
   "cell_type": "code",
   "execution_count": null,
   "id": "14eaa796",
   "metadata": {},
   "outputs": [
    {
     "name": "stdout",
     "output_type": "stream",
     "text": [
      "\n",
      ". \n",
      ". reghdfe car ///\n",
      ">     len_body len_title have_discussion n_choices quadratic ranked_choice dura\n",
      "> tion hhi d_budget d_devint d_govgrants d_incentives d_liqtreasury, ///\n",
      ">     absorb(dao year) vce(cluster token)\n",
      "(dropped 31 singleton observations)\n",
      "(MWFE estimator converged in 5 iterations)\n",
      "note: d_devint is probably collinear with the fixed effects (all partialled-out\n",
      ">  values are close to zero; tol = 1.0e-09)\n",
      "note: quadratic omitted because of collinearity\n",
      "note: ranked_choice omitted because of collinearity\n",
      "note: d_liqtreasury omitted because of collinearity\n",
      "warning: missing F statistic; dropped variables due to collinearity or too few \n",
      "> clusters\n",
      "\n",
      "HDFE Linear regression                            Number of obs   =         26\n",
      "Absorbing 2 HDFE groups                           F(   9,      6) =          .\n",
      "Statistics robust to heteroskedasticity           Prob > F        =          .\n",
      "                                                  R-squared       =     0.4517\n",
      "                                                  Adj R-squared   =    -0.9581\n",
      "                                                  Within R-sq.    =     0.3012\n",
      "Number of clusters (token)   =          7         Root MSE        =     0.1958\n",
      "\n",
      "                                  (Std. err. adjusted for 7 clusters in token)\n",
      "------------------------------------------------------------------------------\n",
      "             |               Robust\n",
      "         car | Coefficient  std. err.      t    P>|t|     [95% conf. interval]\n",
      "-------------+----------------------------------------------------------------\n",
      "    len_body |   .0000245   .0000382     0.64   0.545    -.0000689    .0001178\n",
      "   len_title |   .0000867   .0054033     0.02   0.988    -.0131346     .013308\n",
      "have_discu~n |  -.0055918   .0242167    -0.23   0.825     -.064848    .0536644\n",
      "   n_choices |  -.0737026   .0722724    -1.02   0.347    -.2505467    .1031415\n",
      "   quadratic |          0  (omitted)\n",
      "ranked_cho~e |          0  (omitted)\n",
      "    duration |  -.0254886     .06518    -0.39   0.709    -.1849782    .1340011\n",
      "         hhi |    .032784    .149611     0.22   0.834     -.333301     .398869\n",
      "    d_budget |  -.3716264   .1469467    -2.53   0.045     -.731192   -.0120607\n",
      "    d_devint |          0  (omitted)\n",
      " d_govgrants |  -.3679115   .0398928    -9.22   0.000    -.4655257   -.2702973\n",
      "d_incentives |  -.3244405   .1560308    -2.08   0.083    -.7062339     .057353\n",
      "d_liqtreas~y |          0  (omitted)\n",
      "       _cons |   .3928439   .3519523     1.12   0.307    -.4683523     1.25404\n",
      "------------------------------------------------------------------------------\n",
      "\n",
      "Absorbed degrees of freedom:\n",
      "-----------------------------------------------------+\n",
      " Absorbed FE | Categories  - Redundant  = Num. Coefs |\n",
      "-------------+---------------------------------------|\n",
      "         dao |         7           7           0    *|\n",
      "        year |         4           1           3     |\n",
      "-----------------------------------------------------+\n",
      "* = FE nested within cluster; treated as redundant for DoF computation\n",
      "\n",
      ". eststo full\n",
      "\n",
      ". \n"
     ]
    }
   ],
   "source": [
    "%%stata\n",
    "\n",
    "reghdfe car ///\n",
    "    reject, ///\n",
    "    absorb(dao year) vce(cluster token)\n",
    "eststo full"
   ]
  },
  {
   "cell_type": "markdown",
   "id": "02f210d2",
   "metadata": {},
   "source": [
    "## Proposal End"
   ]
  },
  {
   "cell_type": "code",
   "execution_count": null,
   "id": "6c0fffc3",
   "metadata": {},
   "outputs": [
    {
     "name": "stdout",
     "output_type": "stream",
     "text": [
      "\n",
      ". import delimited using \"PROCESSED_DATA/event_study_panel_end_topics.csv\", ///\n",
      ">     varnames(1) clear\n",
      "(encoding automatically selected: ISO-8859-1)\n",
      "(48 vars, 638 obs)\n",
      "\n",
      ". \n",
      ". * Parse date\n",
      ". gen day = date(date, \"YMD\")\n",
      "\n",
      ". format day %td\n",
      "\n",
      ". gen year = year(day)\n",
      "\n",
      ". \n",
      ". * Keep CAR at the end of event window\n",
      ". keep if index==$EVENT_WINDOW\n",
      "(580 observations deleted)\n",
      "\n",
      ". \n",
      ". * Encode categorical variables\n",
      ". encode gecko_id, gen(token)\n",
      "\n",
      ". encode space, gen(dao)\n",
      "\n",
      ". \n",
      ". eststo clear\n",
      "\n",
      ". \n"
     ]
    }
   ],
   "source": [
    "%%stata\n",
    "import delimited using \"PROCESSED_DATA/event_study_panel_end.csv\", ///\n",
    "    varnames(1) clear\n",
    "\n",
    "* Parse date\n",
    "gen day = date(date, \"YMD\")\n",
    "format day %td\n",
    "gen year = year(day)\n",
    "\n",
    "* Keep CAR at the end of event window\n",
    "keep if index==$EVENT_WINDOW\n",
    "\n",
    "* Encode categorical variables\n",
    "encode gecko_id, gen(token)\n",
    "encode space, gen(dao)\n",
    "\n",
    "eststo clear\n"
   ]
  },
  {
   "cell_type": "code",
   "execution_count": null,
   "id": "991f72d9",
   "metadata": {},
   "outputs": [
    {
     "name": "stdout",
     "output_type": "stream",
     "text": [
      "\n",
      ". \n",
      ". reghdfe car ///\n",
      ">     votes have_discussion len_body len_title n_choices agree hhi duration qua\n",
      "> dratic ranked_choice d_budget d_devint d_govgrants d_incentives d_liqtreasury\n",
      "> , ///\n",
      ">     absorb(dao year) vce(cluster token) \n",
      "(dropped 31 singleton observations)\n",
      "(MWFE estimator converged in 5 iterations)\n",
      "note: d_devint is probably collinear with the fixed effects (all partialled-out\n",
      ">  values are close to zero; tol = 1.0e-09)\n",
      "note: quadratic omitted because of collinearity\n",
      "note: ranked_choice omitted because of collinearity\n",
      "note: d_liqtreasury omitted because of collinearity\n",
      "warning: missing F statistic; dropped variables due to collinearity or too few \n",
      "> clusters\n",
      "\n",
      "HDFE Linear regression                            Number of obs   =         26\n",
      "Absorbing 2 HDFE groups                           F(  11,      6) =          .\n",
      "Statistics robust to heteroskedasticity           Prob > F        =          .\n",
      "                                                  R-squared       =     0.7240\n",
      "                                                  Adj R-squared   =    -0.3799\n",
      "                                                  Within R-sq.    =     0.6292\n",
      "Number of clusters (token)   =          7         Root MSE        =     0.1327\n",
      "\n",
      "                                  (Std. err. adjusted for 7 clusters in token)\n",
      "------------------------------------------------------------------------------\n",
      "             |               Robust\n",
      "         car | Coefficient  std. err.      t    P>|t|     [95% conf. interval]\n",
      "-------------+----------------------------------------------------------------\n",
      "       votes |   .0243197   .1182985     0.21   0.844    -.2651462    .3137856\n",
      "have_discu~n |   .0095555   .0384654     0.25   0.812     -.084566    .1036769\n",
      "    len_body |    .000047   .0000398     1.18   0.282    -.0000504    .0001443\n",
      "   len_title |  -.0050788   .0133912    -0.38   0.718    -.0378458    .0276883\n",
      "   n_choices |   .1011152   .1763246     0.57   0.587    -.3303356    .5325659\n",
      "       agree |   .0455964   .2745176     0.17   0.874    -.6261239    .7173167\n",
      "         hhi |    .163537   .8460936     0.19   0.853    -1.906779    2.233853\n",
      "    duration |   .0352724   .1713979     0.21   0.844    -.3841232    .4546679\n",
      "   quadratic |          0  (omitted)\n",
      "ranked_cho~e |          0  (omitted)\n",
      "    d_budget |  -.7528472    .213783    -3.52   0.012    -1.275955    -.229739\n",
      "    d_devint |          0  (omitted)\n",
      " d_govgrants |  -.3240719   .0703318    -4.61   0.004    -.4961676   -.1519761\n",
      "d_incentives |  -.2792813   .1813183    -1.54   0.174    -.7229511    .1643885\n",
      "d_liqtreas~y |          0  (omitted)\n",
      "       _cons |  -.4975672   1.645242    -0.30   0.773    -4.523328    3.528194\n",
      "------------------------------------------------------------------------------\n",
      "\n",
      "Absorbed degrees of freedom:\n",
      "-----------------------------------------------------+\n",
      " Absorbed FE | Categories  - Redundant  = Num. Coefs |\n",
      "-------------+---------------------------------------|\n",
      "         dao |         7           7           0    *|\n",
      "        year |         4           1           3     |\n",
      "-----------------------------------------------------+\n",
      "* = FE nested within cluster; treated as redundant for DoF computation\n",
      "\n",
      ". eststo full\n",
      "\n",
      ". \n"
     ]
    }
   ],
   "source": [
    "%%stata\n",
    "\n",
    "reghdfe car ///\n",
    "    reject, ///\n",
    "    absorb(dao year) vce(cluster token) \n",
    "eststo full\n"
   ]
  }
 ],
 "metadata": {
  "kernelspec": {
   "display_name": "venv",
   "language": "python",
   "name": "python3"
  },
  "language_info": {
   "codemirror_mode": {
    "name": "ipython",
    "version": 3
   },
   "file_extension": ".py",
   "mimetype": "text/x-python",
   "name": "python",
   "nbconvert_exporter": "python",
   "pygments_lexer": "ipython3",
   "version": "3.12.10"
  }
 },
 "nbformat": 4,
 "nbformat_minor": 5
}
